{
 "cells": [
  {
   "cell_type": "markdown",
   "metadata": {},
   "source": [
    "# APPC – TP8 – Data visualization\n",
    "\n",
    "Salim Talout Zitan\n",
    "\n",
    "November 12, 2018\n",
    "## Objectives of the Lab\n",
    "\n",
    "The purpose of this lab is compare different data visualization algorithm to represent the MNIST dataset in two dimensions order to determine\n",
    "\n",
    "- what are the best ones to vizualize data in 2 dimension\n",
    "- what are the scalable ones\n",
    "\n",
    "The adavantage of using the MNIST data set it that the labels are known. We are going to apply data visualization methods without the labels and use it to asses the quality of the resulting representation.\n",
    "\n",
    "The code is adapted from http://scikit-learn.org/stable/auto_examples/manifold/plot_lle_digits.html\n",
    "\n",
    "Import the needed material. The function plot_repr is provided in the file plot_repr.py\n"
   ]
  },
  {
   "cell_type": "code",
   "execution_count": null,
   "metadata": {},
   "outputs": [],
   "source": [
    "import numpy as np\n",
    "from numpy.random import permutation\n",
    "import time\n",
    "import pandas as pd\n",
    "import matplotlib.pyplot as plt\n",
    "fw, fh = plt.rcParams[\"figure.figsize\"]\n",
    "\n",
    "from sklearn.datasets import fetch_mldata\n",
    "from sklearn.decomposition  import PCA\n",
    "from sklearn.discriminant_analysis import LinearDiscriminantAnalysis\n",
    "from sklearn.manifold import MDS, Isomap, LocallyLinearEmbedding, TSNE, SpectralEmbedding\n",
    "from sklearn.metrics import silhouette_score, calinski_harabaz_score\n",
    "\n",
    "from plot_repr import plot_repr"
   ]
  },
  {
   "cell_type": "markdown",
   "metadata": {},
   "source": [
    "Load MNIST data from scikit learn. Pick n=1000 exemple randomly to begin with. When you will have identify the scalable data vizualization methods, you can go up to n=60,000."
   ]
  },
  {
   "cell_type": "code",
   "execution_count": null,
   "metadata": {},
   "outputs": [],
   "source": [
    "# Load data\n",
    "mnist = fetch_mldata(\"MNIST original\")\n",
    "\n",
    "# pick n points randomly\n",
    "n = 1000\n",
    "choice = permutation(mnist.data.shape[0])[:n]\n",
    "X, y = mnist.data[choice], mnist.target.astype(int)[choice]\n",
    "\n",
    "# Scale and normalize\n",
    "Xc = np.float64(X - np.mean(X,0))\n",
    "\n",
    "# Choose the number of dimensions to project\n",
    "ndim = 2"
   ]
  },
  {
   "cell_type": "markdown",
   "metadata": {},
   "source": [
    "\n",
    "\n",
    "After selecting the relevant ones, create a frame for the resulting metrics. http://scikit-learn.org/stable/modules/clustering.html#clustering-evaluation\n"
   ]
  },
  {
   "cell_type": "code",
   "execution_count": null,
   "metadata": {},
   "outputs": [],
   "source": [
    "res = pd.DataFrame(index=[\"Computation time\", \"Silhouette score\", \"Calinski-Harabaz score\"])"
   ]
  },
  {
   "cell_type": "markdown",
   "metadata": {},
   "source": [
    "\n",
    "\n",
    "Principal Component Analysis. http://scikit-learn.org/stable/modules/generated/sklearn.decomposition.PCA.html\n"
   ]
  },
  {
   "cell_type": "code",
   "execution_count": null,
   "metadata": {},
   "outputs": [],
   "source": [
    "plt.close(\"all\")\n",
    "t = time.time()\n",
    "Xr = PCA(n_components=ndim).fit_transform(Xc)  # eigenvalues ???\n",
    "t = time.time() - t\n",
    "\n",
    "fig, ax = plot_repr(Xr, y, title=\"PCA\")\n",
    "res.loc[:, ax.get_title()] = (t, silhouette_score(Xr, y), calinski_harabaz_score(Xr, y))\n",
    "plt.show()"
   ]
  },
  {
   "cell_type": "markdown",
   "metadata": {},
   "source": [
    "\n",
    "\n",
    "Linear Discriminant Analysis do use the label so it should be compered with other methods. In this comparizon framework, LDA play the role of a gold standart.\n"
   ]
  },
  {
   "cell_type": "code",
   "execution_count": null,
   "metadata": {},
   "outputs": [],
   "source": [
    "# http://scikit-learn.org/stable/modules/generated/sklearn.discriminant_analysis.LinearDiscriminantAnalysis.html#sklearn.discriminant_analysis.LinearDiscriminantAnalysis\n",
    "#\n",
    "t = time.time()\n",
    "Xr = LinearDiscriminantAnalysis(n_components=2).fit_transform(Xc, y)\n",
    "t = time.time() - t\n",
    "fig, ax = plot_repr(Xr, y, title=\"LDA\")\n",
    "res.loc[:, ax.get_title()] = (t, silhouette_score(Xr, y), calinski_harabaz_score(Xr, y))\n",
    "plt.show()"
   ]
  },
  {
   "cell_type": "markdown",
   "metadata": {},
   "source": [
    "\n",
    "\n",
    "Multidimensionnal Scaling (MDS)\n"
   ]
  },
  {
   "cell_type": "code",
   "execution_count": null,
   "metadata": {},
   "outputs": [],
   "source": [
    "# http://scikit-learn.org/stable/modules/generated/sklearn.manifold.MDS.html\n",
    "t = time.time()\n",
    "Xr = MDS(n_components=ndim, metric=True).fit_transform(X)\n",
    "t = time.time() - t\n",
    "fig, ax = plot_repr(Xr, y, title=\"MDS\")\n",
    "res.loc[:, ax.get_title()] = (t, silhouette_score(Xr, y), calinski_harabaz_score(Xr, y))\n",
    "plt.show()"
   ]
  },
  {
   "cell_type": "markdown",
   "metadata": {},
   "source": [
    "Isomap"
   ]
  },
  {
   "cell_type": "code",
   "execution_count": null,
   "metadata": {},
   "outputs": [],
   "source": [
    "# http://scikit-learn.org/stable/modules/generated/sklearn.manifold.Isomap.html\n",
    "t = time.time()\n",
    "Xr = Isomap(n_components=ndim, n_neighbors=10).fit_transform(X)\n",
    "t = time.time() - t\n",
    "fig, ax = plot_repr(Xr, y, title=\"Isomap\")\n",
    "res.loc[:, ax.get_title()] = (t, silhouette_score(Xr, y), calinski_harabaz_score(Xr, y))\n",
    "plt.show()"
   ]
  },
  {
   "cell_type": "markdown",
   "metadata": {},
   "source": [
    "\n",
    "\n",
    "Locally Linear Embedding\n"
   ]
  },
  {
   "cell_type": "code",
   "execution_count": null,
   "metadata": {},
   "outputs": [],
   "source": [
    "# http://scikit-learn.org/stable/modules/generated/sklearn.manifold.LocallyLinearEmbedding.html\n",
    "t = time.time()\n",
    "Xr = LocallyLinearEmbedding(n_components=ndim, n_neighbors=10, reg=0.001).fit_transform(X)\n",
    "t = time.time() - t\n",
    "fig, ax = plot_repr(Xr, y, title=\"LLE\")\n",
    "res.loc[:, ax.get_title()] = (t, silhouette_score(Xr, y), calinski_harabaz_score(Xr, y))\n",
    "plt.show()"
   ]
  },
  {
   "cell_type": "code",
   "execution_count": null,
   "metadata": {},
   "outputs": [],
   "source": [
    "## http://scikit-learn.org/stable/modules/generated/sklearn.manifold.TSNE.html\n",
    "## https://github.com/oreillymedia/t-SNE-tutorial\n",
    "\n",
    "t = time.time()\n",
    "#Xr = TSNE(n_components=ndim, n_iter=1000, init='pca',verbose=0).fit_transform(X) \n",
    "Xr = TSNE(n_components=ndim, n_iter=500, verbose=0).fit_transform(X)  \n",
    "t = time.time() - t\n",
    "fig, ax = plot_repr(Xr, y, title=\"t-SNE\")\n",
    "res.loc[:, ax.get_title()] = (t, silhouette_score(Xr, y), calinski_harabaz_score(Xr, y))\n",
    "\n",
    "#\n",
    "#from tsne import tsne\n",
    "#\n",
    "#t = time.time()\n",
    "#Xr = tsne( X,no_dims=ndim, initial_dims=30, perplexity=30.0)  # 1.18619\n",
    "#t = time.time() - t\n",
    "#fig, ax = plot_repr(Xr, y, title=\"t-SNE2\")\n",
    "#res.loc[:, ax.get_title()] = (t, silhouette_score(Xr, y), calinski_harabaz_score(Xr, y))\n",
    "plt.show()"
   ]
  },
  {
   "cell_type": "markdown",
   "metadata": {},
   "source": [
    "\n",
    "\n",
    "Spectral Embedding\n"
   ]
  },
  {
   "cell_type": "code",
   "execution_count": null,
   "metadata": {},
   "outputs": [],
   "source": [
    "# http://scikit-learn.org/stable/modules/generated/sklearn.manifold.SpectralEmbedding.html\n",
    "t = time.time()\n",
    "Xr = SpectralEmbedding(n_components=ndim, affinity=\"nearest_neighbors\", gamma=None).fit_transform(X)\n",
    "t = time.time() - t\n",
    "fig, ax = plot_repr(Xr, y, title=\"SE\")\n",
    "res.loc[:, ax.get_title()] = (t, silhouette_score(Xr, y), calinski_harabaz_score(Xr, y))\n",
    "plt.show()"
   ]
  },
  {
   "cell_type": "markdown",
   "metadata": {},
   "source": [
    "UMAP"
   ]
  },
  {
   "cell_type": "code",
   "execution_count": null,
   "metadata": {},
   "outputs": [],
   "source": [
    "# pip install umap-learn\n",
    "import umap\n",
    "\n",
    "t = time.time()\n",
    "embedding = umap.UMAP(n_neighbors=10,\n",
    "                      min_dist=0.001,\n",
    "                      metric='correlation').fit_transform(X)\n",
    "t = time.time() - t\n",
    "fig, ax = plot_repr(embedding, y, title=\"umap\")\n",
    "res.loc[:, ax.get_title()] = (t, silhouette_score(embedding, y), calinski_harabaz_score(embedding, y))\n",
    "plt.show()"
   ]
  },
  {
   "cell_type": "markdown",
   "metadata": {},
   "source": [
    "\n",
    "\n",
    "Visualize and compare the resultys of all these methods. What are you conclusions about their quality and scalability?\n"
   ]
  },
  {
   "cell_type": "code",
   "execution_count": null,
   "metadata": {},
   "outputs": [],
   "source": [
    "plt.close(\"all\")\n",
    "fig, ax = plt.subplots(3, figsize=(fw, 3 * fh))\n",
    "for i in range(len(res.index)):\n",
    "    ax[i].bar(res.columns.tolist(), res.iloc[i], color=plt.cm.Set2(i))\n",
    "    ax[i].axhline(color=\"k\", linewidth=plt.rcParams[\"axes.linewidth\"])\n",
    "    ax[i].set_ylabel(res.index[i])\n",
    "plt.show()\n",
    "res"
   ]
  },
  {
   "cell_type": "markdown",
   "metadata": {},
   "source": [
    "\n",
    "\n",
    "Your turn: try to compare these methods ont he COIL-20 data set\n"
   ]
  },
  {
   "cell_type": "code",
   "execution_count": null,
   "metadata": {},
   "outputs": [],
   "source": [
    "import scipy as sp\n",
    "\n",
    "coil = sp.io.loadmat('Donnees_coil_20')\n",
    "X = coil['X']"
   ]
  },
  {
   "cell_type": "code",
   "execution_count": null,
   "metadata": {},
   "outputs": [],
   "source": []
  }
 ],
 "metadata": {
  "kernelspec": {
   "display_name": "Python 3",
   "language": "python",
   "name": "python3"
  },
  "language_info": {
   "codemirror_mode": {
    "name": "ipython",
    "version": 3
   },
   "file_extension": ".py",
   "mimetype": "text/x-python",
   "name": "python",
   "nbconvert_exporter": "python",
   "pygments_lexer": "ipython3",
   "version": "3.6.6"
  }
 },
 "nbformat": 4,
 "nbformat_minor": 2
}
